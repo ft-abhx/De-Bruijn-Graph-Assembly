{
  "nbformat": 4,
  "nbformat_minor": 0,
  "metadata": {
    "colab": {
      "name": "De Bruijn Graph_assembly.ipynb",
      "provenance": [],
      "collapsed_sections": [],
      "include_colab_link": true
    },
    "kernelspec": {
      "name": "python3",
      "display_name": "Python 3"
    }
  },
  "cells": [
    {
      "cell_type": "markdown",
      "metadata": {
        "id": "view-in-github",
        "colab_type": "text"
      },
      "source": [
        "<a href=\"https://colab.research.google.com/github/ft-abhx/De-Bruijn-Graph-Assembly/blob/main/De_Bruijn_Graph_assembly.ipynb\" target=\"_parent\"><img src=\"https://colab.research.google.com/assets/colab-badge.svg\" alt=\"Open In Colab\"/></a>"
      ]
    },
    {
      "cell_type": "code",
      "metadata": {
        "id": "SuzH86gR_N_y",
        "colab": {
          "base_uri": "https://localhost:8080/"
        },
        "outputId": "6c1b3959-9785-418c-c0c8-a141c2145893"
      },
      "source": [
        "!pip install gvmagic"
      ],
      "execution_count": 1,
      "outputs": [
        {
          "output_type": "stream",
          "name": "stdout",
          "text": [
            "Collecting gvmagic\n",
            "  Downloading gvmagic-0.5.tar.gz (6.5 kB)\n",
            "Building wheels for collected packages: gvmagic\n",
            "  Building wheel for gvmagic (setup.py) ... \u001b[?25l\u001b[?25hdone\n",
            "  Created wheel for gvmagic: filename=gvmagic-0.5-py3-none-any.whl size=10470 sha256=b90ddd27c5f6c1362447991609b4e7f1a2d16eedeb89c8e910b6d1c52578bc66\n",
            "  Stored in directory: /root/.cache/pip/wheels/e5/ad/b2/2ba1aaaf5b2004d96473291c80f98d4524a01c6d6e9d468172\n",
            "Successfully built gvmagic\n",
            "Installing collected packages: gvmagic\n",
            "Successfully installed gvmagic-0.5\n"
          ]
        }
      ]
    },
    {
      "cell_type": "code",
      "metadata": {
        "id": "eFhaSWX0_ham"
      },
      "source": [
        "import gvmagic"
      ],
      "execution_count": 2,
      "outputs": []
    },
    {
      "cell_type": "code",
      "metadata": {
        "id": "BI05hF-L5QTK"
      },
      "source": [
        "def debruijnize(reads):\n",
        "    nodes = set()\n",
        "    not_starts = set()\n",
        "    edges = []\n",
        "    for r in reads:\n",
        "        r1 = r[:-1]\n",
        "        r2 = r[1:]\n",
        "        nodes.add(r1)\n",
        "        nodes.add(r2)\n",
        "        edges.append((r1,r2))\n",
        "        not_starts.add(r2)\n",
        "    return (nodes,edges,list(nodes-not_starts))\n",
        "\n",
        "\n",
        "def build_k_mer(str,k):\n",
        "    return [str[i:k+i] for i in range(0,len(str)-k+1)]\n",
        "\n",
        "\n",
        "def make_node_edge_map(edges):\n",
        "    node_edge_map = {}\n",
        "    for e in edges:\n",
        "        n = e[0]\n",
        "        if n in node_edge_map:\n",
        "            node_edge_map[n].append(e[1])\n",
        "        else:\n",
        "            node_edge_map[n] = [e[1]]\n",
        "    return node_edge_map\n",
        "\n",
        "\n",
        "def eulerian_trail(m,v):\n",
        "    nemap = m\n",
        "    result_trail = []\n",
        "    start = v\n",
        "    result_trail.append(start)\n",
        "    while(True):\n",
        "        trail = []\n",
        "        previous = start\n",
        "        while(True):\n",
        "            \n",
        "            if(previous not in nemap):\n",
        "                break\n",
        "            next = nemap[previous].pop()\n",
        "            if(len(nemap[previous]) == 0):\n",
        "                nemap.pop(previous,None)\n",
        "            trail.append(next)\n",
        "            if(next == start):\n",
        "                break;\n",
        "            previous = next\n",
        "        # completed one trail\n",
        "        print(trail)\n",
        "        index = result_trail.index(start)\n",
        "        result_trail = result_trail[0:index+1] + trail + result_trail[index+1:len(result_trail)]\n",
        "        # choose new start\n",
        "        if(len(nemap)==0):\n",
        "          break\n",
        "        found_new_start = False\n",
        "        for n in result_trail:\n",
        "            if n in nemap:\n",
        "                start = n\n",
        "                found_new_start = True\n",
        "                break # from for loop\n",
        "        if not found_new_start:\n",
        "            print(\"error\")\n",
        "            print(\"result_trail\",result_trail)\n",
        "            print(nemap)\n",
        "            break\n",
        "    return result_trail\n",
        "def visualize_debruijn(G):\n",
        "    nodes = G[0]\n",
        "    edges = G[1]\n",
        "    dot_str= 'digraph \"DeBruijn graph\" {\\n '\n",
        "    for node in nodes:\n",
        "        dot_str += '    %s [label=\"%s\"] ;\\n' %(node,node)\n",
        "    for src,dst in edges:\n",
        "        dot_str += '    %s->%s;\\n' %(src,dst)\n",
        "    return dot_str + '}\\n'\n",
        "\n",
        "\n",
        "def assemble_trail(trail):\n",
        "    if len(trail) == 0:\n",
        "        return \"\"\n",
        "    result = trail[0][:-1]\n",
        "    for node in trail:\n",
        "        result += node[-1]\n",
        "    return result\n",
        "    \n",
        "def test_assembly_debruijn(t,k):\n",
        "    reads = build_k_mer(t,k)\n",
        "    G = debruijnize(reads)\n",
        "    v = visualize_debruijn(G)\n",
        "    nemap = make_node_edge_map(G[1])\n",
        "    print(G)\n",
        "    print(v)\n",
        "    start = next(iter(G[2])) if (len(G[2]) > 0) else next(iter(G[0]))\n",
        "    trail = eulerian_trail(nemap,start)\n",
        "    return assemble_trail(trail)"
      ],
      "execution_count": 11,
      "outputs": []
    },
    {
      "cell_type": "code",
      "metadata": {
        "id": "8iP1xApf5e4F",
        "colab": {
          "base_uri": "https://localhost:8080/"
        },
        "outputId": "93d73193-8f4b-448f-96d6-00efd5411313"
      },
      "source": [
        "input_sequence=\"ATCGTTGCGCGACCG\"\n",
        "reads = build_k_mer(input_sequence,4)\n",
        "print(reads) "
      ],
      "execution_count": 35,
      "outputs": [
        {
          "output_type": "stream",
          "name": "stdout",
          "text": [
            "['ATCG', 'TCGT', 'CGTT', 'GTTG', 'TTGC', 'TGCG', 'GCGC', 'CGCG', 'GCGA', 'CGAC', 'GACC', 'ACCG']\n"
          ]
        }
      ]
    },
    {
      "cell_type": "code",
      "metadata": {
        "id": "vCdo5sT55jfq",
        "colab": {
          "base_uri": "https://localhost:8080/"
        },
        "outputId": "f00e7969-2631-4cc0-e101-37d5953b2dc3"
      },
      "source": [
        "G = debruijnize(reads)\n",
        "print(G)"
      ],
      "execution_count": 36,
      "outputs": [
        {
          "output_type": "stream",
          "name": "stdout",
          "text": [
            "({'GAC', 'CCG', 'CGT', 'CGA', 'GTT', 'TTG', 'CGC', 'ACC', 'TCG', 'ATC', 'GCG', 'TGC'}, [('ATC', 'TCG'), ('TCG', 'CGT'), ('CGT', 'GTT'), ('GTT', 'TTG'), ('TTG', 'TGC'), ('TGC', 'GCG'), ('GCG', 'CGC'), ('CGC', 'GCG'), ('GCG', 'CGA'), ('CGA', 'GAC'), ('GAC', 'ACC'), ('ACC', 'CCG')], ['ATC'])\n"
          ]
        }
      ]
    },
    {
      "cell_type": "code",
      "metadata": {
        "id": "iQ88VAn95nbm",
        "colab": {
          "base_uri": "https://localhost:8080/"
        },
        "outputId": "ea29c069-a276-43b5-954c-90d1da957817"
      },
      "source": [
        "m = make_node_edge_map(G[1])\n",
        "print(m)"
      ],
      "execution_count": 37,
      "outputs": [
        {
          "output_type": "stream",
          "name": "stdout",
          "text": [
            "{'ATC': ['TCG'], 'TCG': ['CGT'], 'CGT': ['GTT'], 'GTT': ['TTG'], 'TTG': ['TGC'], 'TGC': ['GCG'], 'GCG': ['CGC', 'CGA'], 'CGC': ['GCG'], 'CGA': ['GAC'], 'GAC': ['ACC'], 'ACC': ['CCG']}\n"
          ]
        }
      ]
    },
    {
      "cell_type": "code",
      "metadata": {
        "id": "1EZLFbnf5szh",
        "colab": {
          "base_uri": "https://localhost:8080/"
        },
        "outputId": "4a22d10a-f1f7-4182-ae5e-c4c082edc35b"
      },
      "source": [
        "start = G[2][0] if (len(G[2]) > 0) else G[0][0]\n",
        "print (start)"
      ],
      "execution_count": 38,
      "outputs": [
        {
          "output_type": "stream",
          "name": "stdout",
          "text": [
            "ATC\n"
          ]
        }
      ]
    },
    {
      "cell_type": "code",
      "metadata": {
        "id": "FPkqeBGz55_Q",
        "colab": {
          "base_uri": "https://localhost:8080/"
        },
        "outputId": "3ffbeb21-391b-400c-96ff-1878198c085c"
      },
      "source": [
        "t = eulerian_trail(m,start)\n",
        "print(t)"
      ],
      "execution_count": 39,
      "outputs": [
        {
          "output_type": "stream",
          "name": "stdout",
          "text": [
            "['TCG', 'CGT', 'GTT', 'TTG', 'TGC', 'GCG', 'CGA', 'GAC', 'ACC', 'CCG']\n",
            "['CGC', 'GCG']\n",
            "['ATC', 'TCG', 'CGT', 'GTT', 'TTG', 'TGC', 'GCG', 'CGC', 'GCG', 'CGA', 'GAC', 'ACC', 'CCG']\n"
          ]
        }
      ]
    },
    {
      "cell_type": "code",
      "metadata": {
        "id": "3fwCEVcs5_5A",
        "colab": {
          "base_uri": "https://localhost:8080/"
        },
        "outputId": "4a7675b0-8176-4558-b0b5-287badbad85f"
      },
      "source": [
        "get_ipython().magic(u'load_ext gvmagic')\n"
      ],
      "execution_count": 40,
      "outputs": [
        {
          "output_type": "stream",
          "name": "stdout",
          "text": [
            "The gvmagic extension is already loaded. To reload it, use:\n",
            "  %reload_ext gvmagic\n"
          ]
        }
      ]
    },
    {
      "cell_type": "code",
      "metadata": {
        "id": "XXoBjfNR6Bmm",
        "colab": {
          "base_uri": "https://localhost:8080/",
          "height": 1000
        },
        "outputId": "3d0a9612-aa88-48e1-f8b6-b1c5ea69f8ac"
      },
      "source": [
        "get_ipython().magic(u'dotstr visualize_debruijn(G)')"
      ],
      "execution_count": 41,
      "outputs": [
        {
          "output_type": "display_data",
          "data": {
            "text/plain": [
              "<IPython.core.display.SVG object>"
            ],
            "image/svg+xml": "<svg height=\"764pt\" viewBox=\"0.00 0.00 148.09 764.00\" width=\"148pt\" xmlns=\"http://www.w3.org/2000/svg\" xmlns:xlink=\"http://www.w3.org/1999/xlink\">\n<g class=\"graph\" id=\"graph0\" transform=\"scale(1 1) rotate(0) translate(4 760)\">\n<title>DeBruijn graph</title>\n<polygon fill=\"#ffffff\" points=\"-4,4 -4,-760 144.0946,-760 144.0946,4 -4,4\" stroke=\"transparent\"/>\n<!-- GAC -->\n<g class=\"node\" id=\"node1\">\n<title>GAC</title>\n<ellipse cx=\"109.5473\" cy=\"-162\" fill=\"none\" rx=\"30.5947\" ry=\"18\" stroke=\"#000000\"/>\n<text fill=\"#000000\" font-family=\"Times,serif\" font-size=\"14.00\" text-anchor=\"middle\" x=\"109.5473\" y=\"-158.3\">GAC</text>\n</g>\n<!-- ACC -->\n<g class=\"node\" id=\"node8\">\n<title>ACC</title>\n<ellipse cx=\"109.5473\" cy=\"-90\" fill=\"none\" rx=\"30.5947\" ry=\"18\" stroke=\"#000000\"/>\n<text fill=\"#000000\" font-family=\"Times,serif\" font-size=\"14.00\" text-anchor=\"middle\" x=\"109.5473\" y=\"-86.3\">ACC</text>\n</g>\n<!-- GAC&#45;&gt;ACC -->\n<g class=\"edge\" id=\"edge11\">\n<title>GAC-&gt;ACC</title>\n<path d=\"M109.5473,-143.8314C109.5473,-136.131 109.5473,-126.9743 109.5473,-118.4166\" fill=\"none\" stroke=\"#000000\"/>\n<polygon fill=\"#000000\" points=\"113.0474,-118.4132 109.5473,-108.4133 106.0474,-118.4133 113.0474,-118.4132\" stroke=\"#000000\"/>\n</g>\n<!-- CCG -->\n<g class=\"node\" id=\"node2\">\n<title>CCG</title>\n<ellipse cx=\"109.5473\" cy=\"-18\" fill=\"none\" rx=\"30.5947\" ry=\"18\" stroke=\"#000000\"/>\n<text fill=\"#000000\" font-family=\"Times,serif\" font-size=\"14.00\" text-anchor=\"middle\" x=\"109.5473\" y=\"-14.3\">CCG</text>\n</g>\n<!-- CGT -->\n<g class=\"node\" id=\"node3\">\n<title>CGT</title>\n<ellipse cx=\"30.5473\" cy=\"-594\" fill=\"none\" rx=\"29.795\" ry=\"18\" stroke=\"#000000\"/>\n<text fill=\"#000000\" font-family=\"Times,serif\" font-size=\"14.00\" text-anchor=\"middle\" x=\"30.5473\" y=\"-590.3\">CGT</text>\n</g>\n<!-- GTT -->\n<g class=\"node\" id=\"node5\">\n<title>GTT</title>\n<ellipse cx=\"30.5473\" cy=\"-522\" fill=\"none\" rx=\"29.4969\" ry=\"18\" stroke=\"#000000\"/>\n<text fill=\"#000000\" font-family=\"Times,serif\" font-size=\"14.00\" text-anchor=\"middle\" x=\"30.5473\" y=\"-518.3\">GTT</text>\n</g>\n<!-- CGT&#45;&gt;GTT -->\n<g class=\"edge\" id=\"edge3\">\n<title>CGT-&gt;GTT</title>\n<path d=\"M30.5473,-575.8314C30.5473,-568.131 30.5473,-558.9743 30.5473,-550.4166\" fill=\"none\" stroke=\"#000000\"/>\n<polygon fill=\"#000000\" points=\"34.0474,-550.4132 30.5473,-540.4133 27.0474,-550.4133 34.0474,-550.4132\" stroke=\"#000000\"/>\n</g>\n<!-- CGA -->\n<g class=\"node\" id=\"node4\">\n<title>CGA</title>\n<ellipse cx=\"109.5473\" cy=\"-234\" fill=\"none\" rx=\"30.5947\" ry=\"18\" stroke=\"#000000\"/>\n<text fill=\"#000000\" font-family=\"Times,serif\" font-size=\"14.00\" text-anchor=\"middle\" x=\"109.5473\" y=\"-230.3\">CGA</text>\n</g>\n<!-- CGA&#45;&gt;GAC -->\n<g class=\"edge\" id=\"edge10\">\n<title>CGA-&gt;GAC</title>\n<path d=\"M109.5473,-215.8314C109.5473,-208.131 109.5473,-198.9743 109.5473,-190.4166\" fill=\"none\" stroke=\"#000000\"/>\n<polygon fill=\"#000000\" points=\"113.0474,-190.4132 109.5473,-180.4133 106.0474,-190.4133 113.0474,-190.4132\" stroke=\"#000000\"/>\n</g>\n<!-- TTG -->\n<g class=\"node\" id=\"node6\">\n<title>TTG</title>\n<ellipse cx=\"30.5473\" cy=\"-450\" fill=\"none\" rx=\"29.4969\" ry=\"18\" stroke=\"#000000\"/>\n<text fill=\"#000000\" font-family=\"Times,serif\" font-size=\"14.00\" text-anchor=\"middle\" x=\"30.5473\" y=\"-446.3\">TTG</text>\n</g>\n<!-- GTT&#45;&gt;TTG -->\n<g class=\"edge\" id=\"edge4\">\n<title>GTT-&gt;TTG</title>\n<path d=\"M30.5473,-503.8314C30.5473,-496.131 30.5473,-486.9743 30.5473,-478.4166\" fill=\"none\" stroke=\"#000000\"/>\n<polygon fill=\"#000000\" points=\"34.0474,-478.4132 30.5473,-468.4133 27.0474,-478.4133 34.0474,-478.4132\" stroke=\"#000000\"/>\n</g>\n<!-- TGC -->\n<g class=\"node\" id=\"node12\">\n<title>TGC</title>\n<ellipse cx=\"30.5473\" cy=\"-378\" fill=\"none\" rx=\"29.795\" ry=\"18\" stroke=\"#000000\"/>\n<text fill=\"#000000\" font-family=\"Times,serif\" font-size=\"14.00\" text-anchor=\"middle\" x=\"30.5473\" y=\"-374.3\">TGC</text>\n</g>\n<!-- TTG&#45;&gt;TGC -->\n<g class=\"edge\" id=\"edge5\">\n<title>TTG-&gt;TGC</title>\n<path d=\"M30.5473,-431.8314C30.5473,-424.131 30.5473,-414.9743 30.5473,-406.4166\" fill=\"none\" stroke=\"#000000\"/>\n<polygon fill=\"#000000\" points=\"34.0474,-406.4132 30.5473,-396.4133 27.0474,-406.4133 34.0474,-406.4132\" stroke=\"#000000\"/>\n</g>\n<!-- CGC -->\n<g class=\"node\" id=\"node7\">\n<title>CGC</title>\n<ellipse cx=\"30.5473\" cy=\"-234\" fill=\"none\" rx=\"30.5947\" ry=\"18\" stroke=\"#000000\"/>\n<text fill=\"#000000\" font-family=\"Times,serif\" font-size=\"14.00\" text-anchor=\"middle\" x=\"30.5473\" y=\"-230.3\">CGC</text>\n</g>\n<!-- GCG -->\n<g class=\"node\" id=\"node11\">\n<title>GCG</title>\n<ellipse cx=\"30.5473\" cy=\"-306\" fill=\"none\" rx=\"30.5947\" ry=\"18\" stroke=\"#000000\"/>\n<text fill=\"#000000\" font-family=\"Times,serif\" font-size=\"14.00\" text-anchor=\"middle\" x=\"30.5473\" y=\"-302.3\">GCG</text>\n</g>\n<!-- CGC&#45;&gt;GCG -->\n<g class=\"edge\" id=\"edge8\">\n<title>CGC-&gt;GCG</title>\n<path d=\"M36.4675,-251.8425C37.2551,-259.7236 37.4821,-269.1774 37.1483,-277.9647\" fill=\"none\" stroke=\"#000000\"/>\n<polygon fill=\"#000000\" points=\"33.6388,-277.9908 36.463,-288.2022 40.6231,-278.4583 33.6388,-277.9908\" stroke=\"#000000\"/>\n</g>\n<!-- ACC&#45;&gt;CCG -->\n<g class=\"edge\" id=\"edge12\">\n<title>ACC-&gt;CCG</title>\n<path d=\"M109.5473,-71.8314C109.5473,-64.131 109.5473,-54.9743 109.5473,-46.4166\" fill=\"none\" stroke=\"#000000\"/>\n<polygon fill=\"#000000\" points=\"113.0474,-46.4132 109.5473,-36.4133 106.0474,-46.4133 113.0474,-46.4132\" stroke=\"#000000\"/>\n</g>\n<!-- TCG -->\n<g class=\"node\" id=\"node9\">\n<title>TCG</title>\n<ellipse cx=\"30.5473\" cy=\"-666\" fill=\"none\" rx=\"29.795\" ry=\"18\" stroke=\"#000000\"/>\n<text fill=\"#000000\" font-family=\"Times,serif\" font-size=\"14.00\" text-anchor=\"middle\" x=\"30.5473\" y=\"-662.3\">TCG</text>\n</g>\n<!-- TCG&#45;&gt;CGT -->\n<g class=\"edge\" id=\"edge2\">\n<title>TCG-&gt;CGT</title>\n<path d=\"M30.5473,-647.8314C30.5473,-640.131 30.5473,-630.9743 30.5473,-622.4166\" fill=\"none\" stroke=\"#000000\"/>\n<polygon fill=\"#000000\" points=\"34.0474,-622.4132 30.5473,-612.4133 27.0474,-622.4133 34.0474,-622.4132\" stroke=\"#000000\"/>\n</g>\n<!-- ATC -->\n<g class=\"node\" id=\"node10\">\n<title>ATC</title>\n<ellipse cx=\"30.5473\" cy=\"-738\" fill=\"none\" rx=\"28.6953\" ry=\"18\" stroke=\"#000000\"/>\n<text fill=\"#000000\" font-family=\"Times,serif\" font-size=\"14.00\" text-anchor=\"middle\" x=\"30.5473\" y=\"-734.3\">ATC</text>\n</g>\n<!-- ATC&#45;&gt;TCG -->\n<g class=\"edge\" id=\"edge1\">\n<title>ATC-&gt;TCG</title>\n<path d=\"M30.5473,-719.8314C30.5473,-712.131 30.5473,-702.9743 30.5473,-694.4166\" fill=\"none\" stroke=\"#000000\"/>\n<polygon fill=\"#000000\" points=\"34.0474,-694.4132 30.5473,-684.4133 27.0474,-694.4133 34.0474,-694.4132\" stroke=\"#000000\"/>\n</g>\n<!-- GCG&#45;&gt;CGA -->\n<g class=\"edge\" id=\"edge9\">\n<title>GCG-&gt;CGA</title>\n<path d=\"M47.3012,-290.7307C58.2987,-280.7075 72.8648,-267.4321 85.1413,-256.2434\" fill=\"none\" stroke=\"#000000\"/>\n<polygon fill=\"#000000\" points=\"87.7842,-258.5702 92.8176,-249.2473 83.069,-253.3966 87.7842,-258.5702\" stroke=\"#000000\"/>\n</g>\n<!-- GCG&#45;&gt;CGC -->\n<g class=\"edge\" id=\"edge7\">\n<title>GCG-&gt;CGC</title>\n<path d=\"M24.6316,-288.2022C23.8418,-280.3271 23.6128,-270.875 23.9444,-262.0852\" fill=\"none\" stroke=\"#000000\"/>\n<polygon fill=\"#000000\" points=\"27.4542,-262.0532 24.6271,-251.8425 20.4697,-261.5876 27.4542,-262.0532\" stroke=\"#000000\"/>\n</g>\n<!-- TGC&#45;&gt;GCG -->\n<g class=\"edge\" id=\"edge6\">\n<title>TGC-&gt;GCG</title>\n<path d=\"M30.5473,-359.8314C30.5473,-352.131 30.5473,-342.9743 30.5473,-334.4166\" fill=\"none\" stroke=\"#000000\"/>\n<polygon fill=\"#000000\" points=\"34.0474,-334.4132 30.5473,-324.4133 27.0474,-334.4133 34.0474,-334.4132\" stroke=\"#000000\"/>\n</g>\n</g>\n</svg>"
          },
          "metadata": {}
        }
      ]
    },
    {
      "cell_type": "code",
      "metadata": {
        "id": "v_tjani0-wyh",
        "colab": {
          "base_uri": "https://localhost:8080/"
        },
        "outputId": "acfb0c41-5e02-4dd5-a0e9-dff288be48f3"
      },
      "source": [
        "print(\"Input String: \",input_sequence)\n",
        "reconstructed_string=assemble_trail(t)\n",
        "print(\"Reconstructed String: \", reconstructed_string)\n",
        "\n",
        "if input_sequence == reconstructed_string:\n",
        "    print(\"String Reconstruction Successful\")\n",
        "else:\n",
        "  print(\"String Reconstruction Unsuccessful\")"
      ],
      "execution_count": 42,
      "outputs": [
        {
          "output_type": "stream",
          "name": "stdout",
          "text": [
            "Input String:  ATCGTTGCGCGACCG\n",
            "Reconstructed String:  ATCGTTGCGCGACCG\n",
            "String Reconstruction Successful\n"
          ]
        }
      ]
    }
  ]
}