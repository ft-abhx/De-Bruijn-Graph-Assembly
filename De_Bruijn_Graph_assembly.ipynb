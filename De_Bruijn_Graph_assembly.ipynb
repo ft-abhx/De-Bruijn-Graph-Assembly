{
  "nbformat": 4,
  "nbformat_minor": 0,
  "metadata": {
    "colab": {
      "name": "De Bruijn Graph_assembly.ipynb",
      "provenance": [],
      "collapsed_sections": [],
      "include_colab_link": true
    },
    "kernelspec": {
      "name": "python3",
      "display_name": "Python 3"
    }
  },
  "cells": [
    {
      "cell_type": "markdown",
      "metadata": {
        "id": "view-in-github",
        "colab_type": "text"
      },
      "source": [
        "<a href=\"https://colab.research.google.com/github/ft-abhx/De-Bruijn-Graph-Assembly/blob/main/De_Bruijn_Graph_assembly.ipynb\" target=\"_parent\"><img src=\"https://colab.research.google.com/assets/colab-badge.svg\" alt=\"Open In Colab\"/></a>"
      ]
    },
    {
      "cell_type": "code",
      "metadata": {
        "id": "SuzH86gR_N_y",
        "colab": {
          "base_uri": "https://localhost:8080/"
        },
        "outputId": "27b08cee-c81b-43d1-8b22-4d2c6a275d30"
      },
      "source": [
        "!pip install gvmagic"
      ],
      "execution_count": null,
      "outputs": [
        {
          "output_type": "stream",
          "name": "stdout",
          "text": [
            "Collecting gvmagic\n",
            "  Downloading gvmagic-0.5.tar.gz (6.5 kB)\n",
            "Building wheels for collected packages: gvmagic\n",
            "  Building wheel for gvmagic (setup.py) ... \u001b[?25l\u001b[?25hdone\n",
            "  Created wheel for gvmagic: filename=gvmagic-0.5-py3-none-any.whl size=10470 sha256=73766787b28d1afb3d59d95a7fe37d31826f6e73f329f33b980ccf14ffd7b19b\n",
            "  Stored in directory: /root/.cache/pip/wheels/e5/ad/b2/2ba1aaaf5b2004d96473291c80f98d4524a01c6d6e9d468172\n",
            "Successfully built gvmagic\n",
            "Installing collected packages: gvmagic\n",
            "Successfully installed gvmagic-0.5\n"
          ]
        }
      ]
    },
    {
      "cell_type": "code",
      "metadata": {
        "id": "eFhaSWX0_ham"
      },
      "source": [
        "import gvmagic"
      ],
      "execution_count": null,
      "outputs": []
    },
    {
      "cell_type": "code",
      "metadata": {
        "id": "BI05hF-L5QTK"
      },
      "source": [
        "def debruijnize(reads):\n",
        "    nodes = set()\n",
        "    not_starts = set()\n",
        "    edges = []\n",
        "    for r in reads:\n",
        "        r1 = r[:-1]\n",
        "        r2 = r[1:]\n",
        "        nodes.add(r1)\n",
        "        nodes.add(r2)\n",
        "        edges.append((r1,r2))\n",
        "        not_starts.add(r2)\n",
        "    return (nodes,edges,list(nodes-not_starts))\n",
        "\n",
        "\n",
        "def build_k_mer(str,k):\n",
        "    return [str[i:k+i] for i in range(0,len(str)-k+1)]\n",
        "\n",
        "\n",
        "def make_node_edge_map(edges):\n",
        "    node_edge_map = {}\n",
        "    for e in edges:\n",
        "        n = e[0]\n",
        "        if n in node_edge_map:\n",
        "            node_edge_map[n].append(e[1])\n",
        "        else:\n",
        "            node_edge_map[n] = [e[1]]\n",
        "    return node_edge_map\n",
        "\n",
        "\n",
        "def eulerian_trail(m,v):\n",
        "    nemap = m\n",
        "    result_trail = []\n",
        "    start = v\n",
        "    result_trail.append(start)\n",
        "    while(True):\n",
        "        trail = []\n",
        "        previous = start\n",
        "        while(True):\n",
        "            \n",
        "            if(previous not in nemap):\n",
        "                break\n",
        "            next = nemap[previous].pop()\n",
        "            if(len(nemap[previous]) == 0):\n",
        "                nemap.pop(previous,None)\n",
        "            trail.append(next)\n",
        "            if(next == start):\n",
        "                break;\n",
        "            previous = next\n",
        "        # completed one trail\n",
        "        print(trail)\n",
        "        index = result_trail.index(start)\n",
        "        result_trail = result_trail[0:index+1] + trail + result_trail[index+1:len(result_trail)]\n",
        "        # choose new start\n",
        "        if(len(nemap)==0):\n",
        "          break\n",
        "        found_new_start = False\n",
        "        for n in result_trail:\n",
        "            if n in nemap:\n",
        "                start = n\n",
        "                found_new_start = True\n",
        "                break # from for loop\n",
        "        if not found_new_start:\n",
        "            print(\"error\")\n",
        "            print(\"result_trail\",result_trail)\n",
        "            print(nemap)\n",
        "            break\n",
        "    return result_trail\n",
        "def visualize_debruijn(G):\n",
        "    nodes = G[0]\n",
        "    edges = G[1]\n",
        "    dot_str= 'digraph \"DeBruijn graph\" {\\n '\n",
        "    for node in nodes:\n",
        "        dot_str += '    %s [label=\"%s\"] ;\\n' %(node,node)\n",
        "    for src,dst in edges:\n",
        "        dot_str += '    %s->%s;\\n' %(src,dst)\n",
        "    return dot_str + '}\\n'\n",
        "\n",
        "\n",
        "def assemble_trail(trail):\n",
        "    if len(trail) == 0:\n",
        "        return \"\"\n",
        "    result = trail[0][:-1]\n",
        "    for node in trail:\n",
        "        result += node[-1]\n",
        "    return result\n",
        "def test_assembly_debruijn(t,k):\n",
        "    reads = build_k_mer(t,k)\n",
        "    G = debruijnize(reads)\n",
        "    v = visualize_debruijn(G)\n",
        "    nemap = make_node_edge_map(G[1])\n",
        "    print(G)\n",
        "    print(v)\n",
        "    start = next(iter(G[2])) if (len(G[2]) > 0) else next(iter(G[0]))\n",
        "    trail = eulerian_trail(nemap,start)\n",
        "    return assemble_trail(trail)"
      ],
      "execution_count": null,
      "outputs": []
    },
    {
      "cell_type": "code",
      "metadata": {
        "id": "8iP1xApf5e4F",
        "colab": {
          "base_uri": "https://localhost:8080/"
        },
        "outputId": "f95fbab4-e8c5-4190-9b6d-ecbac0ce0ba8"
      },
      "source": [
        "reads = build_k_mer(\"ATCGTTGCGCGACCG\",5)\n",
        "print(reads) "
      ],
      "execution_count": null,
      "outputs": [
        {
          "output_type": "stream",
          "name": "stdout",
          "text": [
            "['ATCGT', 'TCGTT', 'CGTTG', 'GTTGC', 'TTGCG', 'TGCGC', 'GCGCG', 'CGCGA', 'GCGAC', 'CGACC', 'GACCG']\n"
          ]
        }
      ]
    },
    {
      "cell_type": "code",
      "metadata": {
        "id": "vCdo5sT55jfq",
        "colab": {
          "base_uri": "https://localhost:8080/"
        },
        "outputId": "bd230a3d-d857-4e8d-850b-0f3a0bd1d493"
      },
      "source": [
        "G = debruijnize(reads)\n",
        "print(G)"
      ],
      "execution_count": null,
      "outputs": [
        {
          "output_type": "stream",
          "name": "stdout",
          "text": [
            "({'CGCG', 'GTTG', 'CGAC', 'TTGC', 'ACCG', 'GACC', 'ATCG', 'CGTT', 'GCGC', 'TGCG', 'GCGA', 'TCGT'}, [('ATCG', 'TCGT'), ('TCGT', 'CGTT'), ('CGTT', 'GTTG'), ('GTTG', 'TTGC'), ('TTGC', 'TGCG'), ('TGCG', 'GCGC'), ('GCGC', 'CGCG'), ('CGCG', 'GCGA'), ('GCGA', 'CGAC'), ('CGAC', 'GACC'), ('GACC', 'ACCG')], ['ATCG'])\n"
          ]
        }
      ]
    },
    {
      "cell_type": "code",
      "metadata": {
        "id": "iQ88VAn95nbm",
        "colab": {
          "base_uri": "https://localhost:8080/"
        },
        "outputId": "863fee2f-ef7c-412a-c85b-dc119274dbd8"
      },
      "source": [
        "m = make_node_edge_map(G[1])\n",
        "print(m)"
      ],
      "execution_count": null,
      "outputs": [
        {
          "output_type": "stream",
          "name": "stdout",
          "text": [
            "{'ATCG': ['TCGT'], 'TCGT': ['CGTT'], 'CGTT': ['GTTG'], 'GTTG': ['TTGC'], 'TTGC': ['TGCG'], 'TGCG': ['GCGC'], 'GCGC': ['CGCG'], 'CGCG': ['GCGA'], 'GCGA': ['CGAC'], 'CGAC': ['GACC'], 'GACC': ['ACCG']}\n"
          ]
        }
      ]
    },
    {
      "cell_type": "code",
      "metadata": {
        "id": "1EZLFbnf5szh",
        "colab": {
          "base_uri": "https://localhost:8080/"
        },
        "outputId": "2b536cab-4b4a-4706-a447-31b53f119c7c"
      },
      "source": [
        "start = G[2][0] if (len(G[2]) > 0) else G[0][0]\n",
        "print (m)\n"
      ],
      "execution_count": null,
      "outputs": [
        {
          "output_type": "stream",
          "name": "stdout",
          "text": [
            "{'ATCG': ['TCGT'], 'TCGT': ['CGTT'], 'CGTT': ['GTTG'], 'GTTG': ['TTGC'], 'TTGC': ['TGCG'], 'TGCG': ['GCGC'], 'GCGC': ['CGCG'], 'CGCG': ['GCGA'], 'GCGA': ['CGAC'], 'CGAC': ['GACC'], 'GACC': ['ACCG']}\n"
          ]
        }
      ]
    },
    {
      "cell_type": "code",
      "metadata": {
        "id": "FPkqeBGz55_Q",
        "colab": {
          "base_uri": "https://localhost:8080/"
        },
        "outputId": "1bbf9af8-c7af-412c-c482-1e825d6bddce"
      },
      "source": [
        "t = eulerian_trail(m,start)\n",
        "print(t)"
      ],
      "execution_count": null,
      "outputs": [
        {
          "output_type": "stream",
          "name": "stdout",
          "text": [
            "['TCGT', 'CGTT', 'GTTG', 'TTGC', 'TGCG', 'GCGC', 'CGCG', 'GCGA', 'CGAC', 'GACC', 'ACCG']\n",
            "['ATCG', 'TCGT', 'CGTT', 'GTTG', 'TTGC', 'TGCG', 'GCGC', 'CGCG', 'GCGA', 'CGAC', 'GACC', 'ACCG']\n"
          ]
        }
      ]
    },
    {
      "cell_type": "code",
      "metadata": {
        "id": "3fwCEVcs5_5A",
        "colab": {
          "base_uri": "https://localhost:8080/"
        },
        "outputId": "bad2ae57-77ab-4045-b9e4-abe40ac379bc"
      },
      "source": [
        "get_ipython().magic(u'load_ext gvmagic')\n"
      ],
      "execution_count": null,
      "outputs": [
        {
          "output_type": "stream",
          "name": "stdout",
          "text": [
            "The gvmagic extension is already loaded. To reload it, use:\n",
            "  %reload_ext gvmagic\n"
          ]
        }
      ]
    },
    {
      "cell_type": "code",
      "metadata": {
        "id": "XXoBjfNR6Bmm",
        "colab": {
          "base_uri": "https://localhost:8080/",
          "height": 1000
        },
        "outputId": "5453e8a1-327d-4ef1-ac07-ce23ea4f65d6"
      },
      "source": [
        "get_ipython().magic(u'dotstr visualize_debruijn(G)')"
      ],
      "execution_count": null,
      "outputs": [
        {
          "output_type": "display_data",
          "data": {
            "text/plain": [
              "<IPython.core.display.SVG object>"
            ],
            "image/svg+xml": "<svg height=\"836pt\" viewBox=\"0.00 0.00 83.39 836.00\" width=\"83pt\" xmlns=\"http://www.w3.org/2000/svg\" xmlns:xlink=\"http://www.w3.org/1999/xlink\">\n<g class=\"graph\" id=\"graph0\" transform=\"scale(1 1) rotate(0) translate(4 832)\">\n<title>DeBruijn graph</title>\n<polygon fill=\"#ffffff\" points=\"-4,4 -4,-832 79.3933,-832 79.3933,4 -4,4\" stroke=\"transparent\"/>\n<!-- CGCG -->\n<g class=\"node\" id=\"node1\">\n<title>CGCG</title>\n<ellipse cx=\"37.6967\" cy=\"-306\" fill=\"none\" rx=\"37.0935\" ry=\"18\" stroke=\"#000000\"/>\n<text fill=\"#000000\" font-family=\"Times,serif\" font-size=\"14.00\" text-anchor=\"middle\" x=\"37.6967\" y=\"-302.3\">CGCG</text>\n</g>\n<!-- GCGA -->\n<g class=\"node\" id=\"node11\">\n<title>GCGA</title>\n<ellipse cx=\"37.6967\" cy=\"-234\" fill=\"none\" rx=\"37.8943\" ry=\"18\" stroke=\"#000000\"/>\n<text fill=\"#000000\" font-family=\"Times,serif\" font-size=\"14.00\" text-anchor=\"middle\" x=\"37.6967\" y=\"-230.3\">GCGA</text>\n</g>\n<!-- CGCG&#45;&gt;GCGA -->\n<g class=\"edge\" id=\"edge8\">\n<title>CGCG-&gt;GCGA</title>\n<path d=\"M37.6967,-287.8314C37.6967,-280.131 37.6967,-270.9743 37.6967,-262.4166\" fill=\"none\" stroke=\"#000000\"/>\n<polygon fill=\"#000000\" points=\"41.1968,-262.4132 37.6967,-252.4133 34.1968,-262.4133 41.1968,-262.4132\" stroke=\"#000000\"/>\n</g>\n<!-- GTTG -->\n<g class=\"node\" id=\"node2\">\n<title>GTTG</title>\n<ellipse cx=\"37.6967\" cy=\"-594\" fill=\"none\" rx=\"36.2938\" ry=\"18\" stroke=\"#000000\"/>\n<text fill=\"#000000\" font-family=\"Times,serif\" font-size=\"14.00\" text-anchor=\"middle\" x=\"37.6967\" y=\"-590.3\">GTTG</text>\n</g>\n<!-- TTGC -->\n<g class=\"node\" id=\"node4\">\n<title>TTGC</title>\n<ellipse cx=\"37.6967\" cy=\"-522\" fill=\"none\" rx=\"35.9954\" ry=\"18\" stroke=\"#000000\"/>\n<text fill=\"#000000\" font-family=\"Times,serif\" font-size=\"14.00\" text-anchor=\"middle\" x=\"37.6967\" y=\"-518.3\">TTGC</text>\n</g>\n<!-- GTTG&#45;&gt;TTGC -->\n<g class=\"edge\" id=\"edge4\">\n<title>GTTG-&gt;TTGC</title>\n<path d=\"M37.6967,-575.8314C37.6967,-568.131 37.6967,-558.9743 37.6967,-550.4166\" fill=\"none\" stroke=\"#000000\"/>\n<polygon fill=\"#000000\" points=\"41.1968,-550.4132 37.6967,-540.4133 34.1968,-550.4133 41.1968,-550.4132\" stroke=\"#000000\"/>\n</g>\n<!-- CGAC -->\n<g class=\"node\" id=\"node3\">\n<title>CGAC</title>\n<ellipse cx=\"37.6967\" cy=\"-162\" fill=\"none\" rx=\"37.0935\" ry=\"18\" stroke=\"#000000\"/>\n<text fill=\"#000000\" font-family=\"Times,serif\" font-size=\"14.00\" text-anchor=\"middle\" x=\"37.6967\" y=\"-158.3\">CGAC</text>\n</g>\n<!-- GACC -->\n<g class=\"node\" id=\"node6\">\n<title>GACC</title>\n<ellipse cx=\"37.6967\" cy=\"-90\" fill=\"none\" rx=\"37.0935\" ry=\"18\" stroke=\"#000000\"/>\n<text fill=\"#000000\" font-family=\"Times,serif\" font-size=\"14.00\" text-anchor=\"middle\" x=\"37.6967\" y=\"-86.3\">GACC</text>\n</g>\n<!-- CGAC&#45;&gt;GACC -->\n<g class=\"edge\" id=\"edge10\">\n<title>CGAC-&gt;GACC</title>\n<path d=\"M37.6967,-143.8314C37.6967,-136.131 37.6967,-126.9743 37.6967,-118.4166\" fill=\"none\" stroke=\"#000000\"/>\n<polygon fill=\"#000000\" points=\"41.1968,-118.4132 37.6967,-108.4133 34.1968,-118.4133 41.1968,-118.4132\" stroke=\"#000000\"/>\n</g>\n<!-- TGCG -->\n<g class=\"node\" id=\"node10\">\n<title>TGCG</title>\n<ellipse cx=\"37.6967\" cy=\"-450\" fill=\"none\" rx=\"36.2938\" ry=\"18\" stroke=\"#000000\"/>\n<text fill=\"#000000\" font-family=\"Times,serif\" font-size=\"14.00\" text-anchor=\"middle\" x=\"37.6967\" y=\"-446.3\">TGCG</text>\n</g>\n<!-- TTGC&#45;&gt;TGCG -->\n<g class=\"edge\" id=\"edge5\">\n<title>TTGC-&gt;TGCG</title>\n<path d=\"M37.6967,-503.8314C37.6967,-496.131 37.6967,-486.9743 37.6967,-478.4166\" fill=\"none\" stroke=\"#000000\"/>\n<polygon fill=\"#000000\" points=\"41.1968,-478.4132 37.6967,-468.4133 34.1968,-478.4133 41.1968,-478.4132\" stroke=\"#000000\"/>\n</g>\n<!-- ACCG -->\n<g class=\"node\" id=\"node5\">\n<title>ACCG</title>\n<ellipse cx=\"37.6967\" cy=\"-18\" fill=\"none\" rx=\"37.0935\" ry=\"18\" stroke=\"#000000\"/>\n<text fill=\"#000000\" font-family=\"Times,serif\" font-size=\"14.00\" text-anchor=\"middle\" x=\"37.6967\" y=\"-14.3\">ACCG</text>\n</g>\n<!-- GACC&#45;&gt;ACCG -->\n<g class=\"edge\" id=\"edge11\">\n<title>GACC-&gt;ACCG</title>\n<path d=\"M37.6967,-71.8314C37.6967,-64.131 37.6967,-54.9743 37.6967,-46.4166\" fill=\"none\" stroke=\"#000000\"/>\n<polygon fill=\"#000000\" points=\"41.1968,-46.4132 37.6967,-36.4133 34.1968,-46.4133 41.1968,-46.4132\" stroke=\"#000000\"/>\n</g>\n<!-- ATCG -->\n<g class=\"node\" id=\"node7\">\n<title>ATCG</title>\n<ellipse cx=\"37.6967\" cy=\"-810\" fill=\"none\" rx=\"35.9954\" ry=\"18\" stroke=\"#000000\"/>\n<text fill=\"#000000\" font-family=\"Times,serif\" font-size=\"14.00\" text-anchor=\"middle\" x=\"37.6967\" y=\"-806.3\">ATCG</text>\n</g>\n<!-- TCGT -->\n<g class=\"node\" id=\"node12\">\n<title>TCGT</title>\n<ellipse cx=\"37.6967\" cy=\"-738\" fill=\"none\" rx=\"35.9954\" ry=\"18\" stroke=\"#000000\"/>\n<text fill=\"#000000\" font-family=\"Times,serif\" font-size=\"14.00\" text-anchor=\"middle\" x=\"37.6967\" y=\"-734.3\">TCGT</text>\n</g>\n<!-- ATCG&#45;&gt;TCGT -->\n<g class=\"edge\" id=\"edge1\">\n<title>ATCG-&gt;TCGT</title>\n<path d=\"M37.6967,-791.8314C37.6967,-784.131 37.6967,-774.9743 37.6967,-766.4166\" fill=\"none\" stroke=\"#000000\"/>\n<polygon fill=\"#000000\" points=\"41.1968,-766.4132 37.6967,-756.4133 34.1968,-766.4133 41.1968,-766.4132\" stroke=\"#000000\"/>\n</g>\n<!-- CGTT -->\n<g class=\"node\" id=\"node8\">\n<title>CGTT</title>\n<ellipse cx=\"37.6967\" cy=\"-666\" fill=\"none\" rx=\"35.9954\" ry=\"18\" stroke=\"#000000\"/>\n<text fill=\"#000000\" font-family=\"Times,serif\" font-size=\"14.00\" text-anchor=\"middle\" x=\"37.6967\" y=\"-662.3\">CGTT</text>\n</g>\n<!-- CGTT&#45;&gt;GTTG -->\n<g class=\"edge\" id=\"edge3\">\n<title>CGTT-&gt;GTTG</title>\n<path d=\"M37.6967,-647.8314C37.6967,-640.131 37.6967,-630.9743 37.6967,-622.4166\" fill=\"none\" stroke=\"#000000\"/>\n<polygon fill=\"#000000\" points=\"41.1968,-622.4132 37.6967,-612.4133 34.1968,-622.4133 41.1968,-622.4132\" stroke=\"#000000\"/>\n</g>\n<!-- GCGC -->\n<g class=\"node\" id=\"node9\">\n<title>GCGC</title>\n<ellipse cx=\"37.6967\" cy=\"-378\" fill=\"none\" rx=\"37.0935\" ry=\"18\" stroke=\"#000000\"/>\n<text fill=\"#000000\" font-family=\"Times,serif\" font-size=\"14.00\" text-anchor=\"middle\" x=\"37.6967\" y=\"-374.3\">GCGC</text>\n</g>\n<!-- GCGC&#45;&gt;CGCG -->\n<g class=\"edge\" id=\"edge7\">\n<title>GCGC-&gt;CGCG</title>\n<path d=\"M37.6967,-359.8314C37.6967,-352.131 37.6967,-342.9743 37.6967,-334.4166\" fill=\"none\" stroke=\"#000000\"/>\n<polygon fill=\"#000000\" points=\"41.1968,-334.4132 37.6967,-324.4133 34.1968,-334.4133 41.1968,-334.4132\" stroke=\"#000000\"/>\n</g>\n<!-- TGCG&#45;&gt;GCGC -->\n<g class=\"edge\" id=\"edge6\">\n<title>TGCG-&gt;GCGC</title>\n<path d=\"M37.6967,-431.8314C37.6967,-424.131 37.6967,-414.9743 37.6967,-406.4166\" fill=\"none\" stroke=\"#000000\"/>\n<polygon fill=\"#000000\" points=\"41.1968,-406.4132 37.6967,-396.4133 34.1968,-406.4133 41.1968,-406.4132\" stroke=\"#000000\"/>\n</g>\n<!-- GCGA&#45;&gt;CGAC -->\n<g class=\"edge\" id=\"edge9\">\n<title>GCGA-&gt;CGAC</title>\n<path d=\"M37.6967,-215.8314C37.6967,-208.131 37.6967,-198.9743 37.6967,-190.4166\" fill=\"none\" stroke=\"#000000\"/>\n<polygon fill=\"#000000\" points=\"41.1968,-190.4132 37.6967,-180.4133 34.1968,-190.4133 41.1968,-190.4132\" stroke=\"#000000\"/>\n</g>\n<!-- TCGT&#45;&gt;CGTT -->\n<g class=\"edge\" id=\"edge2\">\n<title>TCGT-&gt;CGTT</title>\n<path d=\"M37.6967,-719.8314C37.6967,-712.131 37.6967,-702.9743 37.6967,-694.4166\" fill=\"none\" stroke=\"#000000\"/>\n<polygon fill=\"#000000\" points=\"41.1968,-694.4132 37.6967,-684.4133 34.1968,-694.4133 41.1968,-694.4132\" stroke=\"#000000\"/>\n</g>\n</g>\n</svg>"
          },
          "metadata": {}
        }
      ]
    },
    {
      "cell_type": "code",
      "metadata": {
        "id": "v_tjani0-wyh",
        "colab": {
          "base_uri": "https://localhost:8080/",
          "height": 35
        },
        "outputId": "9296da6c-348e-477a-e244-957b249870a4"
      },
      "source": [
        "assemble_trail(t)"
      ],
      "execution_count": null,
      "outputs": [
        {
          "output_type": "execute_result",
          "data": {
            "application/vnd.google.colaboratory.intrinsic+json": {
              "type": "string"
            },
            "text/plain": [
              "'ATCGTTGCGCGACCG'"
            ]
          },
          "metadata": {},
          "execution_count": 19
        }
      ]
    },
    {
      "cell_type": "markdown",
      "source": [
        "ATCGTTGCGCGACCG"
      ],
      "metadata": {
        "id": "sii4U1zotD13"
      }
    }
  ]
}